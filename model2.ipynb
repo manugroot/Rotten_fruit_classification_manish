{
 "cells": [
  {
   "cell_type": "code",
   "execution_count": 2,
   "id": "80524665",
   "metadata": {},
   "outputs": [],
   "source": [
    "import numpy as np\n",
    "import pandas as pd\n",
    "import keras\n",
    "import tensorflow as tf\n",
    "import matplotlib.pyplot as plt\n",
    "from IPython.display import display, Image\n",
    "%matplotlib inline\n",
    "import os"
   ]
  },
  {
   "cell_type": "code",
   "execution_count": 3,
   "id": "694ebb03",
   "metadata": {},
   "outputs": [
    {
     "name": "stdout",
     "output_type": "stream",
     "text": [
      "C:\\Users\\rites\\Downloads\n"
     ]
    }
   ],
   "source": [
    "print(os.getcwd())"
   ]
  },
  {
   "cell_type": "code",
   "execution_count": 4,
   "id": "e5d2d0dd",
   "metadata": {},
   "outputs": [
    {
     "data": {
      "text/plain": [
       "['freshapples',\n",
       " 'freshbanana',\n",
       " 'freshoranges',\n",
       " 'rottenapples',\n",
       " 'rottenbanana',\n",
       " 'rottenoranges']"
      ]
     },
     "execution_count": 4,
     "metadata": {},
     "output_type": "execute_result"
    }
   ],
   "source": [
    "labels = os.listdir(r'C:\\Users\\rites\\Downloads\\manish_SD_AI\\dataset\\train')\n",
    "labels"
   ]
  },
  {
   "cell_type": "code",
   "execution_count": 5,
   "id": "fbbca2ef",
   "metadata": {},
   "outputs": [
    {
     "name": "stdout",
     "output_type": "stream",
     "text": [
      "\n",
      " FRESHAPPLES\n",
      "there are  1693  images in  freshapples class\n",
      "\n",
      " FRESHBANANA\n",
      "there are  1581  images in  freshbanana class\n",
      "\n",
      " FRESHORANGES\n",
      "there are  1466  images in  freshoranges class\n",
      "\n",
      " ROTTENAPPLES\n",
      "there are  2342  images in  rottenapples class\n",
      "\n",
      " ROTTENBANANA\n",
      "there are  2224  images in  rottenbanana class\n",
      "\n",
      " ROTTENORANGES\n",
      "there are  1595  images in  rottenoranges class\n"
     ]
    }
   ],
   "source": [
    "num = []\n",
    "\n",
    "for i in labels:\n",
    "  path = r'C:\\Users\\rites\\Downloads\\manish_SD_AI\\dataset\\train/{0}/'.format(i)\n",
    "  folder_data = os.listdir(path)\n",
    "  k=0\n",
    "  print('\\n', i.upper())\n",
    "  for j in folder_data:\n",
    "    #if(k<1):\n",
    "    #  display(Image(path+j))\n",
    "    k=k+1\n",
    "  num.append(k)\n",
    "  print('there are ', k,' images in ', i, 'class')"
   ]
  },
  {
   "cell_type": "code",
   "execution_count": 6,
   "id": "f2f7b3ef",
   "metadata": {},
   "outputs": [
    {
     "name": "stdout",
     "output_type": "stream",
     "text": [
      "Found 8723 images belonging to 6 classes.\n",
      "Found 2178 images belonging to 6 classes.\n"
     ]
    }
   ],
   "source": [
    "from keras.preprocessing.image import ImageDataGenerator\n",
    "\n",
    "datagen = ImageDataGenerator(rescale=1./255, validation_split=0.2)\n",
    "\n",
    "tg = datagen.flow_from_directory(directory=r'C:\\Users\\rites\\Downloads\\manish_SD_AI\\dataset\\train', target_size=(20,20), classes=labels, batch_size=25, subset='training')\n",
    "vg = datagen.flow_from_directory(directory=r'C:\\Users\\rites\\Downloads\\manish_SD_AI\\dataset\\train', target_size=(20,20), classes=labels, batch_size=25, subset='validation')"
   ]
  },
  {
   "cell_type": "code",
   "execution_count": 7,
   "id": "16d82124",
   "metadata": {},
   "outputs": [],
   "source": [
    "model = tf.keras.Sequential()\n",
    "model.add(tf.keras.layers.Conv2D(32, kernel_size=(3,3), activation='relu', input_shape = (20,20,3)))\n",
    "model.add(tf.keras.layers.MaxPool2D((2,2)))\n",
    "\n",
    "model.add(tf.keras.layers.Conv2D(64, kernel_size=(3,3), activation='relu'))\n",
    "model.add(tf.keras.layers.MaxPool2D((2,2)))\n",
    "\n",
    "model.add(tf.keras.layers.Flatten())\n",
    "model.add(tf.keras.layers.Dense(128, activation='relu'))\n",
    "model.add(tf.keras.layers.Dense(128, activation='relu'))\n",
    "\n",
    "model.add(tf.keras.layers.Dense(6, activation='softmax'))"
   ]
  },
  {
   "cell_type": "code",
   "execution_count": 8,
   "id": "59d920de",
   "metadata": {},
   "outputs": [],
   "source": [
    "model.compile(optimizer='adam', loss = 'categorical_crossentropy', metrics=['accuracy'])"
   ]
  },
  {
   "cell_type": "code",
   "execution_count": 9,
   "id": "e35e15f3",
   "metadata": {},
   "outputs": [
    {
     "name": "stdout",
     "output_type": "stream",
     "text": [
      "Model: \"sequential\"\n",
      "_________________________________________________________________\n",
      " Layer (type)                Output Shape              Param #   \n",
      "=================================================================\n",
      " conv2d (Conv2D)             (None, 18, 18, 32)        896       \n",
      "                                                                 \n",
      " max_pooling2d (MaxPooling2D  (None, 9, 9, 32)         0         \n",
      " )                                                               \n",
      "                                                                 \n",
      " conv2d_1 (Conv2D)           (None, 7, 7, 64)          18496     \n",
      "                                                                 \n",
      " max_pooling2d_1 (MaxPooling  (None, 3, 3, 64)         0         \n",
      " 2D)                                                             \n",
      "                                                                 \n",
      " flatten (Flatten)           (None, 576)               0         \n",
      "                                                                 \n",
      " dense (Dense)               (None, 128)               73856     \n",
      "                                                                 \n",
      " dense_1 (Dense)             (None, 128)               16512     \n",
      "                                                                 \n",
      " dense_2 (Dense)             (None, 6)                 774       \n",
      "                                                                 \n",
      "=================================================================\n",
      "Total params: 110,534\n",
      "Trainable params: 110,534\n",
      "Non-trainable params: 0\n",
      "_________________________________________________________________\n"
     ]
    }
   ],
   "source": [
    "model.summary(line_length=None, positions=None, print_fn=None)\n"
   ]
  },
  {
   "cell_type": "code",
   "execution_count": 10,
   "id": "294bd953",
   "metadata": {},
   "outputs": [
    {
     "name": "stderr",
     "output_type": "stream",
     "text": [
      "<ipython-input-10-bbac88476504>:1: UserWarning: `Model.fit_generator` is deprecated and will be removed in a future version. Please use `Model.fit`, which supports generators.\n",
      "  history = model.fit_generator(generator=tg, steps_per_epoch=len(tg), epochs=8, validation_data=vg, validation_steps=len(vg))\n"
     ]
    },
    {
     "name": "stdout",
     "output_type": "stream",
     "text": [
      "Epoch 1/8\n",
      "349/349 [==============================] - 49s 139ms/step - loss: 0.8153 - accuracy: 0.6939 - val_loss: 0.4080 - val_accuracy: 0.8710\n",
      "Epoch 2/8\n",
      "349/349 [==============================] - 42s 122ms/step - loss: 0.4116 - accuracy: 0.8549 - val_loss: 0.3290 - val_accuracy: 0.8825\n",
      "Epoch 3/8\n",
      "349/349 [==============================] - 42s 120ms/step - loss: 0.3087 - accuracy: 0.8864 - val_loss: 0.2355 - val_accuracy: 0.91643089 - accuracy: \n",
      "Epoch 4/8\n",
      "349/349 [==============================] - 43s 124ms/step - loss: 0.2596 - accuracy: 0.9082 - val_loss: 0.2705 - val_accuracy: 0.9050\n",
      "Epoch 5/8\n",
      "349/349 [==============================] - 44s 127ms/step - loss: 0.2307 - accuracy: 0.9159 - val_loss: 0.1875 - val_accuracy: 0.9302\n",
      "Epoch 6/8\n",
      "349/349 [==============================] - 46s 132ms/step - loss: 0.2002 - accuracy: 0.9274 - val_loss: 0.1950 - val_accuracy: 0.9307\n",
      "Epoch 7/8\n",
      "349/349 [==============================] - 45s 130ms/step - loss: 0.1569 - accuracy: 0.9445 - val_loss: 0.1282 - val_accuracy: 0.9509\n",
      "Epoch 8/8\n",
      "349/349 [==============================] - 48s 137ms/step - loss: 0.1552 - accuracy: 0.9402 - val_loss: 0.1493 - val_accuracy: 0.9463\n"
     ]
    }
   ],
   "source": [
    "history = model.fit_generator(generator=tg, steps_per_epoch=len(tg), epochs=8, validation_data=vg, validation_steps=len(vg))\n"
   ]
  },
  {
   "cell_type": "code",
   "execution_count": 11,
   "id": "74deba16",
   "metadata": {},
   "outputs": [
    {
     "name": "stdout",
     "output_type": "stream",
     "text": [
      "Found 538 images belonging to 6 classes.\n"
     ]
    }
   ],
   "source": [
    "test_set = datagen.flow_from_directory(directory=r'C:\\Users\\rites\\Downloads\\manish_SD_AI\\dataset\\test', target_size=(20,20), classes=labels, batch_size=25, subset='validation')"
   ]
  },
  {
   "cell_type": "code",
   "execution_count": 12,
   "id": "8145554c",
   "metadata": {},
   "outputs": [],
   "source": [
    "prediction = model.predict(test_set)"
   ]
  },
  {
   "cell_type": "code",
   "execution_count": 14,
   "id": "3bf20c37",
   "metadata": {},
   "outputs": [
    {
     "data": {
      "text/plain": [
       "array([[1.8236051e-08, 9.9997413e-01, 1.1478585e-08, 2.0183150e-07,\n",
       "        1.7673363e-05, 7.9438942e-06],\n",
       "       [4.2642734e-10, 9.9852246e-01, 4.8831843e-08, 2.4745064e-09,\n",
       "        4.2963383e-04, 1.0478680e-03],\n",
       "       [1.0529446e-07, 9.6606782e-06, 4.6957675e-06, 4.2503820e-05,\n",
       "        9.9940741e-01, 5.3561444e-04],\n",
       "       ...,\n",
       "       [4.8581109e-07, 9.9679983e-01, 2.9896448e-08, 6.7376698e-07,\n",
       "        3.0014636e-03, 1.9745559e-04],\n",
       "       [8.5914377e-03, 7.7960675e-07, 2.1087519e-06, 9.9072570e-01,\n",
       "        1.8089230e-07, 6.7976571e-04],\n",
       "       [5.1932740e-05, 3.8378626e-06, 1.5834083e-04, 9.8115909e-01,\n",
       "        5.2900364e-06, 1.8621515e-02]], dtype=float32)"
      ]
     },
     "execution_count": 14,
     "metadata": {},
     "output_type": "execute_result"
    }
   ],
   "source": [
    "prediction"
   ]
  },
  {
   "cell_type": "code",
   "execution_count": 16,
   "id": "4633e3fd",
   "metadata": {},
   "outputs": [
    {
     "name": "stdout",
     "output_type": "stream",
     "text": [
      "88/88 [==============================] - 10s 116ms/step - loss: 0.1493 - accuracy: 0.9463\n"
     ]
    },
    {
     "data": {
      "text/plain": [
       "[0.14931315183639526, 0.9462810158729553]"
      ]
     },
     "execution_count": 16,
     "metadata": {},
     "output_type": "execute_result"
    }
   ],
   "source": [
    "model.evaluate(vg)"
   ]
  },
  {
   "cell_type": "code",
   "execution_count": 17,
   "id": "7e6a7ef1",
   "metadata": {},
   "outputs": [
    {
     "name": "stdout",
     "output_type": "stream",
     "text": [
      "22/22 [==============================] - 2s 108ms/step - loss: 0.1340 - accuracy: 0.9461\n"
     ]
    },
    {
     "data": {
      "text/plain": [
       "[0.1340177357196808, 0.946096658706665]"
      ]
     },
     "execution_count": 17,
     "metadata": {},
     "output_type": "execute_result"
    }
   ],
   "source": [
    "model.evaluate(test_set)"
   ]
  },
  {
   "cell_type": "code",
   "execution_count": null,
   "id": "6f26c7bc",
   "metadata": {},
   "outputs": [],
   "source": []
  }
 ],
 "metadata": {
  "kernelspec": {
   "display_name": "Python 3",
   "language": "python",
   "name": "python3"
  },
  "language_info": {
   "codemirror_mode": {
    "name": "ipython",
    "version": 3
   },
   "file_extension": ".py",
   "mimetype": "text/x-python",
   "name": "python",
   "nbconvert_exporter": "python",
   "pygments_lexer": "ipython3",
   "version": "3.8.8"
  }
 },
 "nbformat": 4,
 "nbformat_minor": 5
}
